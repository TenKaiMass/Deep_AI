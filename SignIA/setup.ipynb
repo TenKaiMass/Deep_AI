{
 "cells": [
  {
   "attachments": {},
   "cell_type": "markdown",
   "metadata": {},
   "source": [
    "# Recuperation des data "
   ]
  },
  {
   "attachments": {},
   "cell_type": "markdown",
   "metadata": {},
   "source": [
    "Nous allons d'abord recuperer les data via la commande `wget`\n",
    "\n",
    "Ensuite il nous suffira de dezipé et renommer le dossier annotations en labels car sinon des problèmes seront rencontrer lors de l'entrainement"
   ]
  },
  {
   "cell_type": "code",
   "execution_count": null,
   "metadata": {},
   "outputs": [],
   "source": [
    "%%bash\n",
    "wget --load-cookies /tmp/cookies.txt \"https://docs.google.com/uc?export=download&confirm=$(wget --quiet --save-cookies /tmp/cookies.txt --keep-session-cookies --no-check-certificate 'https://docs.google.com/uc?export=download&id=1Xw5s_RUMRnvfQtZn1xirsk5r-3qNQI0z' -O- | sed -rn 's/.*confirm=([0-9A-Za-z_]+).*/\\1\\n/p')&id=1Xw5s_RUMRnvfQtZn1xirsk5r-3qNQI0z\" -O Data.zip && rm -rf /tmp/cookies.txt\n",
    "unzip Data.zip -d data\n",
    "mv ./data/annotations ./data/labels"
   ]
  },
  {
   "attachments": {},
   "cell_type": "markdown",
   "metadata": {},
   "source": [
    "Les datas se presente avec 2 dossier:\n",
    "- images : qui contient toutes les images au format `png``\n",
    "- labels : qui contient les information en `xml`sur le(s) item(s) à detecter dans l'image"
   ]
  },
  {
   "attachments": {},
   "cell_type": "markdown",
   "metadata": {},
   "source": [
    "# Conversion data au format yolo"
   ]
  },
  {
   "attachments": {},
   "cell_type": "markdown",
   "metadata": {},
   "source": [
    "Maintenant que les datas on été recuperée, il va falloir les convertir afin qu'elle soit compréhensible par YOLO pour cela:\n",
    "- Nous allons analysé les `xml`pour recuperer le(s) label(s)\n",
    "- Faire des calculs sur la taille des items recherchés (la zone de l'item est donc connu) "
   ]
  },
  {
   "cell_type": "code",
   "execution_count": null,
   "metadata": {},
   "outputs": [],
   "source": [
    "import os\n",
    "from fastai.vision.all import *"
   ]
  },
  {
   "cell_type": "code",
   "execution_count": null,
   "metadata": {},
   "outputs": [],
   "source": [
    "try : from ..MyModules.GestionImages import *\n",
    "except : \n",
    "    sys.path.append(\"../MyModules/\")\n",
    "    from xmlGestion import convert_for_yolo"
   ]
  },
  {
   "attachments": {},
   "cell_type": "markdown",
   "metadata": {},
   "source": [
    "nous configurons ici la localisation des datas"
   ]
  },
  {
   "cell_type": "code",
   "execution_count": null,
   "metadata": {},
   "outputs": [],
   "source": [
    "path_to_xml = './data/labels/'\n",
    "list_of_xml = os.listdir(path_to_xml) \n",
    "labels = ['trafficlight', 'speedlimit', 'crosswalk', 'stop']"
   ]
  },
  {
   "attachments": {},
   "cell_type": "markdown",
   "metadata": {},
   "source": [
    "La commande qui va suivre va donc convertir les données pour chaque fichier et les ajouter dans des fichier portant les memes nom au format `txt`\n",
    "Voici un exemple :\n",
    "<img src=\"assets/convertion.png\">"
   ]
  },
  {
   "cell_type": "code",
   "execution_count": null,
   "metadata": {},
   "outputs": [],
   "source": [
    "convert_for_yolo(path_to_xml,list_of_xml,labels)"
   ]
  }
 ],
 "metadata": {
  "kernelspec": {
   "display_name": "Python 3.9.6 64-bit",
   "language": "python",
   "name": "python3"
  },
  "language_info": {
   "codemirror_mode": {
    "name": "ipython",
    "version": 3
   },
   "file_extension": ".py",
   "mimetype": "text/x-python",
   "name": "python",
   "nbconvert_exporter": "python",
   "pygments_lexer": "ipython3",
   "version": "3.9.6"
  },
  "orig_nbformat": 4,
  "vscode": {
   "interpreter": {
    "hash": "31f2aee4e71d21fbe5cf8b01ff0e069b9275f58929596ceb00d14d90e3e16cd6"
   }
  }
 },
 "nbformat": 4,
 "nbformat_minor": 2
}
