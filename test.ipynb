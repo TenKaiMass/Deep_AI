{
 "cells": [
  {
   "cell_type": "code",
   "execution_count": 6,
   "metadata": {},
   "outputs": [],
   "source": [
    "#test la connection\n",
    "import socket,warnings\n",
    "from fastdownload import download_url\n",
    "from duckduckgo_search import ddg_images\n",
    "from fastcore.all import *\n",
    "from fastai.vision.all import *\n",
    "\n",
    "try:\n",
    "    socket.setdefaulttimeout(1)\n",
    "    socket.socket(socket.AF_INET, socket.SOCK_STREAM).connect(('1.1.1.1', 53))\n",
    "except socket.error as ex: raise Exception(\"STOP: No internet. Click '>|' in top right and set 'Internet' switch to on\")"
   ]
  },
  {
   "cell_type": "code",
   "execution_count": 7,
   "metadata": {},
   "outputs": [],
   "source": [
    "\n",
    "def search_images(pattern, max_images):\n",
    "    return L(ddg_images(pattern, max_results=max_images)).itemgot('image')"
   ]
  },
  {
   "cell_type": "code",
   "execution_count": 17,
   "metadata": {},
   "outputs": [],
   "source": [
    "\n",
    "urls_of_img = search_images('bird photos', max_images=30)\n"
   ]
  },
  {
   "cell_type": "code",
   "execution_count": 27,
   "metadata": {},
   "outputs": [],
   "source": [
    "def download_urls_get_paths(pattern_name,urls_of_img,path_dest=\"assets\",max_num_down=len(urls_of_img)):\n",
    "    max_num_down = urls_of_img[:max_num_down]\n",
    "    img_paths = []\n",
    "    for index,item in enumerate(max_num_down):\n",
    "        img_path = f\"{path_dest}/{pattern_name}/{pattern_name}{index}.jpg\"\n",
    "        img_paths.append(img_path)\n",
    "        download_url(item, img_path, show_progress=False)\n",
    "    return img_paths\n",
    "    "
   ]
  },
  {
   "cell_type": "code",
   "execution_count": 28,
   "metadata": {},
   "outputs": [
    {
     "name": "stdout",
     "output_type": "stream",
     "text": [
      "assets/bird/bird0.jpg\n",
      "assets/bird/bird1.jpg\n",
      "assets/bird/bird2.jpg\n",
      "assets/bird/bird3.jpg\n",
      "assets/bird/bird4.jpg\n"
     ]
    }
   ],
   "source": [
    "paths = download_urls_get_paths(\"bird\",urls_of_img,max_num_down=5)  \n"
   ]
  },
  {
   "cell_type": "code",
   "execution_count": null,
   "metadata": {},
   "outputs": [],
   "source": [
    "def display_img(path):\n",
    "    im = Image.open(path)\n",
    "    im.to_thumb(256,256) "
   ]
  }
 ],
 "metadata": {
  "kernelspec": {
   "display_name": "Python 3.9.6 64-bit",
   "language": "python",
   "name": "python3"
  },
  "language_info": {
   "codemirror_mode": {
    "name": "ipython",
    "version": 3
   },
   "file_extension": ".py",
   "mimetype": "text/x-python",
   "name": "python",
   "nbconvert_exporter": "python",
   "pygments_lexer": "ipython3",
   "version": "3.9.6"
  },
  "orig_nbformat": 4,
  "vscode": {
   "interpreter": {
    "hash": "31f2aee4e71d21fbe5cf8b01ff0e069b9275f58929596ceb00d14d90e3e16cd6"
   }
  }
 },
 "nbformat": 4,
 "nbformat_minor": 2
}
